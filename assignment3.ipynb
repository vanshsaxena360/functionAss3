{
 "cells": [
  {
   "cell_type": "code",
   "execution_count": 1,
   "id": "55e73995-c8dd-4de8-854a-ca25ee2d50e4",
   "metadata": {},
   "outputs": [],
   "source": [
    "# Q1. Which keyword is used to create a function? Create a function to return a list of odd numbers in the\n",
    "# range of 1 to 25.\n",
    "\n",
    "# Ans. Def keyword is used to create a function. \n",
    "def odd_num():\n",
    "    l1=[]\n",
    "    for i in range(1,25):\n",
    "        if i%2==0:\n",
    "            l1.append(i)\n",
    "    return l1"
   ]
  },
  {
   "cell_type": "code",
   "execution_count": 2,
   "id": "605a1a96-428b-440f-92b5-e316bbfd353a",
   "metadata": {},
   "outputs": [
    {
     "data": {
      "text/plain": [
       "[2, 4, 6, 8, 10, 12, 14, 16, 18, 20, 22, 24]"
      ]
     },
     "execution_count": 2,
     "metadata": {},
     "output_type": "execute_result"
    }
   ],
   "source": [
    "odd_num()"
   ]
  },
  {
   "cell_type": "code",
   "execution_count": 3,
   "id": "6997cd56-9217-4252-876e-a67ed9edc1b3",
   "metadata": {},
   "outputs": [],
   "source": [
    "# Q2. Why *args and **kwargs is used in some functions? Create a function each for *args and **kwargs\n",
    "# to demonstrate their use.\n",
    "\n",
    "# By using *args and **kwargs, you can create flexible functions that can handle varying numbers of arguments.\n",
    "def args_func(*args):\n",
    "    for i in args:\n",
    "        print(i)\n",
    "        \n",
    "\n",
    "\n",
    "def kwargs_func(**kwargs):\n",
    "    return kwargs"
   ]
  },
  {
   "cell_type": "code",
   "execution_count": 4,
   "id": "a84e2136-e8ff-493e-87ab-0f0c00b3ddb6",
   "metadata": {},
   "outputs": [
    {
     "name": "stdout",
     "output_type": "stream",
     "text": [
      "Hello\n",
      "pwskills\n",
      "!\n"
     ]
    }
   ],
   "source": [
    "args_func(\"Hello\", \"pwskills\", \"!\")"
   ]
  },
  {
   "cell_type": "code",
   "execution_count": 5,
   "id": "c9c40483-cec3-4be3-9039-40a04817d661",
   "metadata": {},
   "outputs": [
    {
     "data": {
      "text/plain": [
       "{'name': 'vansh', 'school': 'pwskills'}"
      ]
     },
     "execution_count": 5,
     "metadata": {},
     "output_type": "execute_result"
    }
   ],
   "source": [
    "kwargs_func(name=\"vansh\", school=\"pwskills\")"
   ]
  },
  {
   "cell_type": "code",
   "execution_count": 6,
   "id": "550b3ec8-c7c3-422b-a52a-b24220ae4cc9",
   "metadata": {},
   "outputs": [],
   "source": [
    "# Q3. What is an iterator in python? Name the method used to initialise the iterator object and the method\n",
    "# used for iteration. Use these methods to print the first five elements of the given list [2, 4, 6, 8, 10, 12, 14,\n",
    "# 16, 18, 20].\n",
    "\n",
    "# Ans. Iterators provide a memory-efficient way to iterate over large datasets or generate values \n",
    "# dynamically without needing to store the entire sequence in memory.\n",
    "\n",
    "# next() method is use for iteration\n",
    "l1 = [2, 4, 6, 8, 10, 12, 14, 16, 18, 20]\n",
    "l2 = iter(l1)"
   ]
  },
  {
   "cell_type": "code",
   "execution_count": 7,
   "id": "7965f04b-bab6-4c46-8c43-1a9d4633dd09",
   "metadata": {},
   "outputs": [
    {
     "data": {
      "text/plain": [
       "2"
      ]
     },
     "execution_count": 7,
     "metadata": {},
     "output_type": "execute_result"
    }
   ],
   "source": [
    "next(l2)"
   ]
  },
  {
   "cell_type": "code",
   "execution_count": 8,
   "id": "ffc3750a-a414-4c95-9111-0e8c99378a73",
   "metadata": {},
   "outputs": [
    {
     "data": {
      "text/plain": [
       "4"
      ]
     },
     "execution_count": 8,
     "metadata": {},
     "output_type": "execute_result"
    }
   ],
   "source": [
    "next(l2)"
   ]
  },
  {
   "cell_type": "code",
   "execution_count": 10,
   "id": "2c566223-db14-4510-b910-487db058a6c3",
   "metadata": {},
   "outputs": [
    {
     "name": "stdout",
     "output_type": "stream",
     "text": [
      "1\n",
      "2\n",
      "3\n",
      "4\n",
      "5\n",
      "6\n",
      "7\n",
      "8\n",
      "9\n"
     ]
    }
   ],
   "source": [
    "# Q4. What is a generator function in python? Why yield keyword is used? Give an example of a generator function.\n",
    "# generator: generator function is a special type of function that returns an iterator called a generator. It \n",
    "#  allows you to define an iterator in a more concise and convenient way compared to implementing the iterator \n",
    "#  protocol manually.\n",
    "\n",
    "# yield: The yield keyword in Python controls the flow of a generator function\n",
    "\n",
    "def count_seri(n):\n",
    "    i = 1\n",
    "    while i<n:\n",
    "        yield i\n",
    "        i = i+1\n",
    "        \n",
    "for i in count_seri(10):\n",
    "    print(i)"
   ]
  },
  {
   "cell_type": "code",
   "execution_count": 18,
   "id": "bc478858-dc2c-4d6e-80df-563f94698e98",
   "metadata": {},
   "outputs": [
    {
     "ename": "SyntaxError",
     "evalue": "expected ':' (3913495787.py, line 6)",
     "output_type": "error",
     "traceback": [
      "\u001b[0;36m  Cell \u001b[0;32mIn[18], line 6\u001b[0;36m\u001b[0m\n\u001b[0;31m    if i\u001b[0m\n\u001b[0m        ^\u001b[0m\n\u001b[0;31mSyntaxError\u001b[0m\u001b[0;31m:\u001b[0m expected ':'\n"
     ]
    }
   ],
   "source": [
    "# Q5. Create a generator function for prime numbers less than 1000. Use the next() method to print the\n",
    "# first 20 prime numbers.\n",
    "\n",
    "def prime_generator():\n",
    "    num = 2\n",
    "\n",
    "    while num < 1000:\n",
    "        is_prime = True\n",
    "\n",
    "        for i in range(2, int(num ** 0.5) + 1):\n",
    "            if num % i == 0:\n",
    "                is_prime = False\n",
    "                break\n",
    "\n",
    "        if is_prime:\n",
    "            yield num\n",
    "\n",
    "        num += 1\n",
    "\n",
    "prime_numbers = prime_generator()\n",
    "\n",
    "for _ in range(20):\n",
    "    print(next(prime_numbers))\n",
    "        \n",
    "# Not clear to me"
   ]
  },
  {
   "cell_type": "code",
   "execution_count": 21,
   "id": "c2dfcf35-7746-487f-99b5-ee17ffcd7c44",
   "metadata": {},
   "outputs": [
    {
     "name": "stdout",
     "output_type": "stream",
     "text": [
      "0\n",
      "1\n",
      "1\n",
      "2\n",
      "3\n",
      "5\n",
      "8\n",
      "13\n",
      "21\n",
      "34\n",
      "55\n",
      "89\n",
      "144\n",
      "233\n",
      "377\n",
      "610\n",
      "987\n",
      "1597\n",
      "2584\n",
      "4181\n"
     ]
    }
   ],
   "source": [
    "# Q6. Write a python program to print the first 10 Fibonacci numbers using a while loop.\n",
    "def fibo(): \n",
    "    a=0\n",
    "    b=1\n",
    "    while True:\n",
    "        yield a \n",
    "        a,b = b,a+b\n",
    "        \n",
    "fibonacci = fibo()\n",
    "count = 0\n",
    "while count < 20:\n",
    "    print(next(fibonacci))\n",
    "    count += 1"
   ]
  },
  {
   "cell_type": "code",
   "execution_count": 26,
   "id": "775ebf25-90b0-454f-9260-cb413ce985b3",
   "metadata": {},
   "outputs": [
    {
     "name": "stdout",
     "output_type": "stream",
     "text": [
      "['p', 'w', 's', 'k', 'i', 'l', 'l', 's']\n"
     ]
    }
   ],
   "source": [
    "# Q7. Write a List Comprehension to iterate through the given string: ‘pwskills’.\n",
    "# Expected output: ['p', 'w', 's', 'k', 'i', 'l', 'l', 's']\n",
    "\n",
    "s = \"pwskills\"\n",
    "def comp(s):\n",
    "    l1=[]\n",
    "    for i in s:\n",
    "        l1.append(i)\n",
    "    return l1\n",
    "print(comp(l1))"
   ]
  },
  {
   "cell_type": "code",
   "execution_count": 15,
   "id": "d746aef6-70db-4113-9e4c-b3e8683e66f1",
   "metadata": {},
   "outputs": [
    {
     "name": "stdout",
     "output_type": "stream",
     "text": [
      "976\n",
      "number is not palindrome\n"
     ]
    }
   ],
   "source": [
    "# Q8. Write a python program to check whether a given number is Palindrome or not using a while loop.\n",
    "\n",
    "n = 679\n",
    "temp = n\n",
    "reverse = 0\n",
    "\n",
    "while(n>0):\n",
    "    dig = n%10\n",
    "    reverse = (reverse*10)+dig\n",
    "    n = n//10\n",
    "    \n",
    "print(reverse)\n",
    "if temp == reverse:\n",
    "    print (\"number is palindrome\")\n",
    "else:\n",
    "    print(\"number is not palindrome\")"
   ]
  },
  {
   "cell_type": "code",
   "execution_count": 8,
   "id": "7e2b5ffd-7a81-4585-a9ab-0808c7a0132e",
   "metadata": {},
   "outputs": [
    {
     "name": "stdout",
     "output_type": "stream",
     "text": [
      "[1, 3, 5, 7, 9, 11, 13, 15, 17, 19, 21, 23, 25, 27, 29, 31, 33, 35, 37, 39, 41, 43, 45, 47, 49, 51, 53, 55, 57, 59, 61, 63, 65, 67, 69, 71, 73, 75, 77, 79, 81, 83, 85, 87, 89, 91, 93, 95, 97, 99]\n"
     ]
    }
   ],
   "source": [
    "# Q9. Write a code to print odd numbers from 1 to 100 using list comprehension.\n",
    "odd_num = [num for num in range(0,100) if num%2!=0]\n",
    "print(odd_num) "
   ]
  },
  {
   "cell_type": "code",
   "execution_count": null,
   "id": "401071fb-d563-4ba4-a6b8-24b9266a8457",
   "metadata": {},
   "outputs": [],
   "source": []
  }
 ],
 "metadata": {
  "kernelspec": {
   "display_name": "Python 3 (ipykernel)",
   "language": "python",
   "name": "python3"
  },
  "language_info": {
   "codemirror_mode": {
    "name": "ipython",
    "version": 3
   },
   "file_extension": ".py",
   "mimetype": "text/x-python",
   "name": "python",
   "nbconvert_exporter": "python",
   "pygments_lexer": "ipython3",
   "version": "3.10.8"
  }
 },
 "nbformat": 4,
 "nbformat_minor": 5
}
